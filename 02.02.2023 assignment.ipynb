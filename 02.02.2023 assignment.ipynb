{
 "cells": [
  {
   "cell_type": "markdown",
   "id": "5cda85c3-e3a0-4aad-bf74-57fee3459df3",
   "metadata": {},
   "source": [
    "# answere no 1 (for loop and while loop)"
   ]
  },
  {
   "cell_type": "code",
   "execution_count": 2,
   "id": "cb8e0260-2e6b-4e0e-a6cc-465f7a9a41c5",
   "metadata": {},
   "outputs": [],
   "source": [
    "number = [1,2,3,4,5]"
   ]
  },
  {
   "cell_type": "code",
   "execution_count": 6,
   "id": "65f9c3cb-bc7b-44dd-83a2-92d493994597",
   "metadata": {},
   "outputs": [
    {
     "name": "stdout",
     "output_type": "stream",
     "text": [
      "1\n",
      "2\n",
      "3\n",
      "4\n",
      "5\n"
     ]
    }
   ],
   "source": [
    "for num in number:\n",
    "    print (num)"
   ]
  },
  {
   "cell_type": "code",
   "execution_count": 7,
   "id": "c714e2f5-378d-4769-a0dd-025a2033ec3d",
   "metadata": {},
   "outputs": [],
   "source": [
    "count = 1"
   ]
  },
  {
   "cell_type": "code",
   "execution_count": 8,
   "id": "3bd84596-a671-4fd1-a757-743593a3d031",
   "metadata": {},
   "outputs": [
    {
     "name": "stdout",
     "output_type": "stream",
     "text": [
      "1\n",
      "2\n",
      "3\n",
      "4\n",
      "5\n",
      "6\n",
      "7\n",
      "8\n",
      "9\n",
      "10\n"
     ]
    }
   ],
   "source": [
    "while count <=10:\n",
    "    print (count)\n",
    "    count +=1"
   ]
  },
  {
   "cell_type": "markdown",
   "id": "9d448418-c31b-4c18-86c6-7d8b223b2912",
   "metadata": {},
   "source": [
    "# answere no 2 "
   ]
  },
  {
   "cell_type": "markdown",
   "id": "1495b439-71f3-463a-b966-84620f8d6798",
   "metadata": {},
   "source": [
    "#for loop and while loop"
   ]
  },
  {
   "cell_type": "code",
   "execution_count": 10,
   "id": "3e6036f1-5e1c-4ba0-ae99-731ef5255181",
   "metadata": {},
   "outputs": [],
   "source": [
    "i = (1,11)"
   ]
  },
  {
   "cell_type": "code",
   "execution_count": 13,
   "id": "552395ba-1fd7-4644-88ea-d0d0b6362773",
   "metadata": {},
   "outputs": [
    {
     "name": "stdout",
     "output_type": "stream",
     "text": [
      "the sum of the first 10 natural number is : 1\n",
      "the sum of the first 10 natural number is : 3\n",
      "the sum of the first 10 natural number is : 6\n",
      "the sum of the first 10 natural number is : 10\n",
      "the sum of the first 10 natural number is : 15\n",
      "the sum of the first 10 natural number is : 21\n",
      "the sum of the first 10 natural number is : 28\n",
      "the sum of the first 10 natural number is : 36\n",
      "the sum of the first 10 natural number is : 45\n",
      "the sum of the first 10 natural number is : 55\n"
     ]
    }
   ],
   "source": [
    "sum = 0\n",
    "product = 10\n",
    "\n",
    "for i in range (1,11):\n",
    "    sum += i\n",
    "    \n",
    "    print (\"the sum of the first 10 natural number is :\", sum)"
   ]
  },
  {
   "cell_type": "code",
   "execution_count": 14,
   "id": "7c8a0819-c384-4a3a-85e1-75d8fa6c2e49",
   "metadata": {},
   "outputs": [
    {
     "name": "stdout",
     "output_type": "stream",
     "text": [
      "the product of the first 10 natural number is : 10\n",
      "the product of the first 10 natural number is : 20\n",
      "the product of the first 10 natural number is : 60\n",
      "the product of the first 10 natural number is : 240\n",
      "the product of the first 10 natural number is : 1200\n",
      "the product of the first 10 natural number is : 7200\n",
      "the product of the first 10 natural number is : 50400\n",
      "the product of the first 10 natural number is : 403200\n",
      "the product of the first 10 natural number is : 3628800\n",
      "the product of the first 10 natural number is : 36288000\n"
     ]
    }
   ],
   "source": [
    "sum = 0\n",
    "product = 10\n",
    "\n",
    "for i in range (1,11):\n",
    "    product *=i\n",
    "    \n",
    "    print (\"the product of the first 10 natural number is :\", product)"
   ]
  },
  {
   "cell_type": "code",
   "execution_count": 19,
   "id": "1000bb0c-72a3-4e68-a952-cc1729fc2524",
   "metadata": {},
   "outputs": [
    {
     "name": "stdout",
     "output_type": "stream",
     "text": [
      "the sum of the first 10 natural number is : 10\n",
      "the product of the first 10 natural number is : 100\n"
     ]
    }
   ],
   "source": [
    "sum = 0\n",
    "product = 10\n",
    "count = 10\n",
    "\n",
    "while count <= 10:\n",
    "    sum += i\n",
    "    product *= i\n",
    "    count += i\n",
    "    \n",
    "    print (\"the sum of the first 10 natural number is :\", sum)\n",
    "    print (\"the product of the first 10 natural number is :\", product)\n",
    "    "
   ]
  },
  {
   "cell_type": "code",
   "execution_count": null,
   "id": "533cf534-866e-449d-a124-72692ab0208b",
   "metadata": {},
   "outputs": [],
   "source": []
  },
  {
   "cell_type": "markdown",
   "id": "d0c5e6ff-4b05-4f99-b7bc-d956564a9a37",
   "metadata": {},
   "source": [
    "#ANSWERE NO 3"
   ]
  },
  {
   "cell_type": "code",
   "execution_count": 27,
   "id": "3033b911-df76-441d-883b-cc021085a069",
   "metadata": {},
   "outputs": [
    {
     "name": "stdin",
     "output_type": "stream",
     "text": [
      "enter the units of electricity consumed in a month: 310\n"
     ]
    },
    {
     "name": "stdout",
     "output_type": "stream",
     "text": [
      "The electricity bill for this month is : 2250.0\n"
     ]
    }
   ],
   "source": [
    "units = int(input(\"enter the units of electricity consumed in a month:\"))\n",
    "\n",
    "if units <= 100:\n",
    "    bill = units*4.5\n",
    "elif units <=200:\n",
    "    bill = units*4.5+ (units-100)*6\n",
    "elif units <= 300:\n",
    "    bill = 100*4.5 + 100*6 + (units-100)*10\n",
    "else :\n",
    "    bill = 100*4.5 +100*6 + 100*10 + (units-300)*20\n",
    "    \n",
    "print (\"The electricity bill for this month is :\",bill)"
   ]
  },
  {
   "cell_type": "markdown",
   "id": "f26471af-0cb4-4970-8476-4325c2c5d080",
   "metadata": {},
   "source": [
    "# answer no 4 "
   ]
  },
  {
   "cell_type": "code",
   "execution_count": 30,
   "id": "4e1b8628-085d-4898-a7f6-7e71de96a489",
   "metadata": {},
   "outputs": [
    {
     "name": "stdout",
     "output_type": "stream",
     "text": [
      "numbers whose cube is devisible by 4 or 5 : []\n",
      "numbers whose cube is devisible by 4 or 5 : [2]\n",
      "numbers whose cube is devisible by 4 or 5 : [2]\n",
      "numbers whose cube is devisible by 4 or 5 : [2, 4]\n",
      "numbers whose cube is devisible by 4 or 5 : [2, 4, 5]\n",
      "numbers whose cube is devisible by 4 or 5 : [2, 4, 5, 6]\n",
      "numbers whose cube is devisible by 4 or 5 : [2, 4, 5, 6]\n",
      "numbers whose cube is devisible by 4 or 5 : [2, 4, 5, 6, 8]\n",
      "numbers whose cube is devisible by 4 or 5 : [2, 4, 5, 6, 8]\n",
      "numbers whose cube is devisible by 4 or 5 : [2, 4, 5, 6, 8, 10]\n",
      "numbers whose cube is devisible by 4 or 5 : [2, 4, 5, 6, 8, 10]\n",
      "numbers whose cube is devisible by 4 or 5 : [2, 4, 5, 6, 8, 10, 12]\n",
      "numbers whose cube is devisible by 4 or 5 : [2, 4, 5, 6, 8, 10, 12]\n",
      "numbers whose cube is devisible by 4 or 5 : [2, 4, 5, 6, 8, 10, 12, 14]\n",
      "numbers whose cube is devisible by 4 or 5 : [2, 4, 5, 6, 8, 10, 12, 14, 15]\n",
      "numbers whose cube is devisible by 4 or 5 : [2, 4, 5, 6, 8, 10, 12, 14, 15, 16]\n",
      "numbers whose cube is devisible by 4 or 5 : [2, 4, 5, 6, 8, 10, 12, 14, 15, 16]\n",
      "numbers whose cube is devisible by 4 or 5 : [2, 4, 5, 6, 8, 10, 12, 14, 15, 16, 18]\n",
      "numbers whose cube is devisible by 4 or 5 : [2, 4, 5, 6, 8, 10, 12, 14, 15, 16, 18]\n",
      "numbers whose cube is devisible by 4 or 5 : [2, 4, 5, 6, 8, 10, 12, 14, 15, 16, 18, 20]\n",
      "numbers whose cube is devisible by 4 or 5 : [2, 4, 5, 6, 8, 10, 12, 14, 15, 16, 18, 20]\n",
      "numbers whose cube is devisible by 4 or 5 : [2, 4, 5, 6, 8, 10, 12, 14, 15, 16, 18, 20, 22]\n",
      "numbers whose cube is devisible by 4 or 5 : [2, 4, 5, 6, 8, 10, 12, 14, 15, 16, 18, 20, 22]\n",
      "numbers whose cube is devisible by 4 or 5 : [2, 4, 5, 6, 8, 10, 12, 14, 15, 16, 18, 20, 22, 24]\n",
      "numbers whose cube is devisible by 4 or 5 : [2, 4, 5, 6, 8, 10, 12, 14, 15, 16, 18, 20, 22, 24, 25]\n",
      "numbers whose cube is devisible by 4 or 5 : [2, 4, 5, 6, 8, 10, 12, 14, 15, 16, 18, 20, 22, 24, 25, 26]\n",
      "numbers whose cube is devisible by 4 or 5 : [2, 4, 5, 6, 8, 10, 12, 14, 15, 16, 18, 20, 22, 24, 25, 26]\n",
      "numbers whose cube is devisible by 4 or 5 : [2, 4, 5, 6, 8, 10, 12, 14, 15, 16, 18, 20, 22, 24, 25, 26, 28]\n",
      "numbers whose cube is devisible by 4 or 5 : [2, 4, 5, 6, 8, 10, 12, 14, 15, 16, 18, 20, 22, 24, 25, 26, 28]\n",
      "numbers whose cube is devisible by 4 or 5 : [2, 4, 5, 6, 8, 10, 12, 14, 15, 16, 18, 20, 22, 24, 25, 26, 28, 30]\n",
      "numbers whose cube is devisible by 4 or 5 : [2, 4, 5, 6, 8, 10, 12, 14, 15, 16, 18, 20, 22, 24, 25, 26, 28, 30]\n",
      "numbers whose cube is devisible by 4 or 5 : [2, 4, 5, 6, 8, 10, 12, 14, 15, 16, 18, 20, 22, 24, 25, 26, 28, 30, 32]\n",
      "numbers whose cube is devisible by 4 or 5 : [2, 4, 5, 6, 8, 10, 12, 14, 15, 16, 18, 20, 22, 24, 25, 26, 28, 30, 32]\n",
      "numbers whose cube is devisible by 4 or 5 : [2, 4, 5, 6, 8, 10, 12, 14, 15, 16, 18, 20, 22, 24, 25, 26, 28, 30, 32, 34]\n",
      "numbers whose cube is devisible by 4 or 5 : [2, 4, 5, 6, 8, 10, 12, 14, 15, 16, 18, 20, 22, 24, 25, 26, 28, 30, 32, 34, 35]\n",
      "numbers whose cube is devisible by 4 or 5 : [2, 4, 5, 6, 8, 10, 12, 14, 15, 16, 18, 20, 22, 24, 25, 26, 28, 30, 32, 34, 35, 36]\n",
      "numbers whose cube is devisible by 4 or 5 : [2, 4, 5, 6, 8, 10, 12, 14, 15, 16, 18, 20, 22, 24, 25, 26, 28, 30, 32, 34, 35, 36]\n",
      "numbers whose cube is devisible by 4 or 5 : [2, 4, 5, 6, 8, 10, 12, 14, 15, 16, 18, 20, 22, 24, 25, 26, 28, 30, 32, 34, 35, 36, 38]\n",
      "numbers whose cube is devisible by 4 or 5 : [2, 4, 5, 6, 8, 10, 12, 14, 15, 16, 18, 20, 22, 24, 25, 26, 28, 30, 32, 34, 35, 36, 38]\n",
      "numbers whose cube is devisible by 4 or 5 : [2, 4, 5, 6, 8, 10, 12, 14, 15, 16, 18, 20, 22, 24, 25, 26, 28, 30, 32, 34, 35, 36, 38, 40]\n",
      "numbers whose cube is devisible by 4 or 5 : [2, 4, 5, 6, 8, 10, 12, 14, 15, 16, 18, 20, 22, 24, 25, 26, 28, 30, 32, 34, 35, 36, 38, 40]\n",
      "numbers whose cube is devisible by 4 or 5 : [2, 4, 5, 6, 8, 10, 12, 14, 15, 16, 18, 20, 22, 24, 25, 26, 28, 30, 32, 34, 35, 36, 38, 40, 42]\n",
      "numbers whose cube is devisible by 4 or 5 : [2, 4, 5, 6, 8, 10, 12, 14, 15, 16, 18, 20, 22, 24, 25, 26, 28, 30, 32, 34, 35, 36, 38, 40, 42]\n",
      "numbers whose cube is devisible by 4 or 5 : [2, 4, 5, 6, 8, 10, 12, 14, 15, 16, 18, 20, 22, 24, 25, 26, 28, 30, 32, 34, 35, 36, 38, 40, 42, 44]\n",
      "numbers whose cube is devisible by 4 or 5 : [2, 4, 5, 6, 8, 10, 12, 14, 15, 16, 18, 20, 22, 24, 25, 26, 28, 30, 32, 34, 35, 36, 38, 40, 42, 44, 45]\n",
      "numbers whose cube is devisible by 4 or 5 : [2, 4, 5, 6, 8, 10, 12, 14, 15, 16, 18, 20, 22, 24, 25, 26, 28, 30, 32, 34, 35, 36, 38, 40, 42, 44, 45, 46]\n",
      "numbers whose cube is devisible by 4 or 5 : [2, 4, 5, 6, 8, 10, 12, 14, 15, 16, 18, 20, 22, 24, 25, 26, 28, 30, 32, 34, 35, 36, 38, 40, 42, 44, 45, 46]\n",
      "numbers whose cube is devisible by 4 or 5 : [2, 4, 5, 6, 8, 10, 12, 14, 15, 16, 18, 20, 22, 24, 25, 26, 28, 30, 32, 34, 35, 36, 38, 40, 42, 44, 45, 46, 48]\n",
      "numbers whose cube is devisible by 4 or 5 : [2, 4, 5, 6, 8, 10, 12, 14, 15, 16, 18, 20, 22, 24, 25, 26, 28, 30, 32, 34, 35, 36, 38, 40, 42, 44, 45, 46, 48]\n",
      "numbers whose cube is devisible by 4 or 5 : [2, 4, 5, 6, 8, 10, 12, 14, 15, 16, 18, 20, 22, 24, 25, 26, 28, 30, 32, 34, 35, 36, 38, 40, 42, 44, 45, 46, 48, 50]\n",
      "numbers whose cube is devisible by 4 or 5 : [2, 4, 5, 6, 8, 10, 12, 14, 15, 16, 18, 20, 22, 24, 25, 26, 28, 30, 32, 34, 35, 36, 38, 40, 42, 44, 45, 46, 48, 50]\n",
      "numbers whose cube is devisible by 4 or 5 : [2, 4, 5, 6, 8, 10, 12, 14, 15, 16, 18, 20, 22, 24, 25, 26, 28, 30, 32, 34, 35, 36, 38, 40, 42, 44, 45, 46, 48, 50, 52]\n",
      "numbers whose cube is devisible by 4 or 5 : [2, 4, 5, 6, 8, 10, 12, 14, 15, 16, 18, 20, 22, 24, 25, 26, 28, 30, 32, 34, 35, 36, 38, 40, 42, 44, 45, 46, 48, 50, 52]\n",
      "numbers whose cube is devisible by 4 or 5 : [2, 4, 5, 6, 8, 10, 12, 14, 15, 16, 18, 20, 22, 24, 25, 26, 28, 30, 32, 34, 35, 36, 38, 40, 42, 44, 45, 46, 48, 50, 52, 54]\n",
      "numbers whose cube is devisible by 4 or 5 : [2, 4, 5, 6, 8, 10, 12, 14, 15, 16, 18, 20, 22, 24, 25, 26, 28, 30, 32, 34, 35, 36, 38, 40, 42, 44, 45, 46, 48, 50, 52, 54, 55]\n",
      "numbers whose cube is devisible by 4 or 5 : [2, 4, 5, 6, 8, 10, 12, 14, 15, 16, 18, 20, 22, 24, 25, 26, 28, 30, 32, 34, 35, 36, 38, 40, 42, 44, 45, 46, 48, 50, 52, 54, 55, 56]\n",
      "numbers whose cube is devisible by 4 or 5 : [2, 4, 5, 6, 8, 10, 12, 14, 15, 16, 18, 20, 22, 24, 25, 26, 28, 30, 32, 34, 35, 36, 38, 40, 42, 44, 45, 46, 48, 50, 52, 54, 55, 56]\n",
      "numbers whose cube is devisible by 4 or 5 : [2, 4, 5, 6, 8, 10, 12, 14, 15, 16, 18, 20, 22, 24, 25, 26, 28, 30, 32, 34, 35, 36, 38, 40, 42, 44, 45, 46, 48, 50, 52, 54, 55, 56, 58]\n",
      "numbers whose cube is devisible by 4 or 5 : [2, 4, 5, 6, 8, 10, 12, 14, 15, 16, 18, 20, 22, 24, 25, 26, 28, 30, 32, 34, 35, 36, 38, 40, 42, 44, 45, 46, 48, 50, 52, 54, 55, 56, 58]\n",
      "numbers whose cube is devisible by 4 or 5 : [2, 4, 5, 6, 8, 10, 12, 14, 15, 16, 18, 20, 22, 24, 25, 26, 28, 30, 32, 34, 35, 36, 38, 40, 42, 44, 45, 46, 48, 50, 52, 54, 55, 56, 58, 60]\n",
      "numbers whose cube is devisible by 4 or 5 : [2, 4, 5, 6, 8, 10, 12, 14, 15, 16, 18, 20, 22, 24, 25, 26, 28, 30, 32, 34, 35, 36, 38, 40, 42, 44, 45, 46, 48, 50, 52, 54, 55, 56, 58, 60]\n",
      "numbers whose cube is devisible by 4 or 5 : [2, 4, 5, 6, 8, 10, 12, 14, 15, 16, 18, 20, 22, 24, 25, 26, 28, 30, 32, 34, 35, 36, 38, 40, 42, 44, 45, 46, 48, 50, 52, 54, 55, 56, 58, 60, 62]\n",
      "numbers whose cube is devisible by 4 or 5 : [2, 4, 5, 6, 8, 10, 12, 14, 15, 16, 18, 20, 22, 24, 25, 26, 28, 30, 32, 34, 35, 36, 38, 40, 42, 44, 45, 46, 48, 50, 52, 54, 55, 56, 58, 60, 62]\n",
      "numbers whose cube is devisible by 4 or 5 : [2, 4, 5, 6, 8, 10, 12, 14, 15, 16, 18, 20, 22, 24, 25, 26, 28, 30, 32, 34, 35, 36, 38, 40, 42, 44, 45, 46, 48, 50, 52, 54, 55, 56, 58, 60, 62, 64]\n",
      "numbers whose cube is devisible by 4 or 5 : [2, 4, 5, 6, 8, 10, 12, 14, 15, 16, 18, 20, 22, 24, 25, 26, 28, 30, 32, 34, 35, 36, 38, 40, 42, 44, 45, 46, 48, 50, 52, 54, 55, 56, 58, 60, 62, 64, 65]\n",
      "numbers whose cube is devisible by 4 or 5 : [2, 4, 5, 6, 8, 10, 12, 14, 15, 16, 18, 20, 22, 24, 25, 26, 28, 30, 32, 34, 35, 36, 38, 40, 42, 44, 45, 46, 48, 50, 52, 54, 55, 56, 58, 60, 62, 64, 65, 66]\n",
      "numbers whose cube is devisible by 4 or 5 : [2, 4, 5, 6, 8, 10, 12, 14, 15, 16, 18, 20, 22, 24, 25, 26, 28, 30, 32, 34, 35, 36, 38, 40, 42, 44, 45, 46, 48, 50, 52, 54, 55, 56, 58, 60, 62, 64, 65, 66]\n",
      "numbers whose cube is devisible by 4 or 5 : [2, 4, 5, 6, 8, 10, 12, 14, 15, 16, 18, 20, 22, 24, 25, 26, 28, 30, 32, 34, 35, 36, 38, 40, 42, 44, 45, 46, 48, 50, 52, 54, 55, 56, 58, 60, 62, 64, 65, 66, 68]\n",
      "numbers whose cube is devisible by 4 or 5 : [2, 4, 5, 6, 8, 10, 12, 14, 15, 16, 18, 20, 22, 24, 25, 26, 28, 30, 32, 34, 35, 36, 38, 40, 42, 44, 45, 46, 48, 50, 52, 54, 55, 56, 58, 60, 62, 64, 65, 66, 68]\n",
      "numbers whose cube is devisible by 4 or 5 : [2, 4, 5, 6, 8, 10, 12, 14, 15, 16, 18, 20, 22, 24, 25, 26, 28, 30, 32, 34, 35, 36, 38, 40, 42, 44, 45, 46, 48, 50, 52, 54, 55, 56, 58, 60, 62, 64, 65, 66, 68, 70]\n",
      "numbers whose cube is devisible by 4 or 5 : [2, 4, 5, 6, 8, 10, 12, 14, 15, 16, 18, 20, 22, 24, 25, 26, 28, 30, 32, 34, 35, 36, 38, 40, 42, 44, 45, 46, 48, 50, 52, 54, 55, 56, 58, 60, 62, 64, 65, 66, 68, 70]\n",
      "numbers whose cube is devisible by 4 or 5 : [2, 4, 5, 6, 8, 10, 12, 14, 15, 16, 18, 20, 22, 24, 25, 26, 28, 30, 32, 34, 35, 36, 38, 40, 42, 44, 45, 46, 48, 50, 52, 54, 55, 56, 58, 60, 62, 64, 65, 66, 68, 70, 72]\n",
      "numbers whose cube is devisible by 4 or 5 : [2, 4, 5, 6, 8, 10, 12, 14, 15, 16, 18, 20, 22, 24, 25, 26, 28, 30, 32, 34, 35, 36, 38, 40, 42, 44, 45, 46, 48, 50, 52, 54, 55, 56, 58, 60, 62, 64, 65, 66, 68, 70, 72]\n",
      "numbers whose cube is devisible by 4 or 5 : [2, 4, 5, 6, 8, 10, 12, 14, 15, 16, 18, 20, 22, 24, 25, 26, 28, 30, 32, 34, 35, 36, 38, 40, 42, 44, 45, 46, 48, 50, 52, 54, 55, 56, 58, 60, 62, 64, 65, 66, 68, 70, 72, 74]\n",
      "numbers whose cube is devisible by 4 or 5 : [2, 4, 5, 6, 8, 10, 12, 14, 15, 16, 18, 20, 22, 24, 25, 26, 28, 30, 32, 34, 35, 36, 38, 40, 42, 44, 45, 46, 48, 50, 52, 54, 55, 56, 58, 60, 62, 64, 65, 66, 68, 70, 72, 74, 75]\n",
      "numbers whose cube is devisible by 4 or 5 : [2, 4, 5, 6, 8, 10, 12, 14, 15, 16, 18, 20, 22, 24, 25, 26, 28, 30, 32, 34, 35, 36, 38, 40, 42, 44, 45, 46, 48, 50, 52, 54, 55, 56, 58, 60, 62, 64, 65, 66, 68, 70, 72, 74, 75, 76]\n",
      "numbers whose cube is devisible by 4 or 5 : [2, 4, 5, 6, 8, 10, 12, 14, 15, 16, 18, 20, 22, 24, 25, 26, 28, 30, 32, 34, 35, 36, 38, 40, 42, 44, 45, 46, 48, 50, 52, 54, 55, 56, 58, 60, 62, 64, 65, 66, 68, 70, 72, 74, 75, 76]\n",
      "numbers whose cube is devisible by 4 or 5 : [2, 4, 5, 6, 8, 10, 12, 14, 15, 16, 18, 20, 22, 24, 25, 26, 28, 30, 32, 34, 35, 36, 38, 40, 42, 44, 45, 46, 48, 50, 52, 54, 55, 56, 58, 60, 62, 64, 65, 66, 68, 70, 72, 74, 75, 76, 78]\n",
      "numbers whose cube is devisible by 4 or 5 : [2, 4, 5, 6, 8, 10, 12, 14, 15, 16, 18, 20, 22, 24, 25, 26, 28, 30, 32, 34, 35, 36, 38, 40, 42, 44, 45, 46, 48, 50, 52, 54, 55, 56, 58, 60, 62, 64, 65, 66, 68, 70, 72, 74, 75, 76, 78]\n",
      "numbers whose cube is devisible by 4 or 5 : [2, 4, 5, 6, 8, 10, 12, 14, 15, 16, 18, 20, 22, 24, 25, 26, 28, 30, 32, 34, 35, 36, 38, 40, 42, 44, 45, 46, 48, 50, 52, 54, 55, 56, 58, 60, 62, 64, 65, 66, 68, 70, 72, 74, 75, 76, 78, 80]\n",
      "numbers whose cube is devisible by 4 or 5 : [2, 4, 5, 6, 8, 10, 12, 14, 15, 16, 18, 20, 22, 24, 25, 26, 28, 30, 32, 34, 35, 36, 38, 40, 42, 44, 45, 46, 48, 50, 52, 54, 55, 56, 58, 60, 62, 64, 65, 66, 68, 70, 72, 74, 75, 76, 78, 80]\n",
      "numbers whose cube is devisible by 4 or 5 : [2, 4, 5, 6, 8, 10, 12, 14, 15, 16, 18, 20, 22, 24, 25, 26, 28, 30, 32, 34, 35, 36, 38, 40, 42, 44, 45, 46, 48, 50, 52, 54, 55, 56, 58, 60, 62, 64, 65, 66, 68, 70, 72, 74, 75, 76, 78, 80, 82]\n",
      "numbers whose cube is devisible by 4 or 5 : [2, 4, 5, 6, 8, 10, 12, 14, 15, 16, 18, 20, 22, 24, 25, 26, 28, 30, 32, 34, 35, 36, 38, 40, 42, 44, 45, 46, 48, 50, 52, 54, 55, 56, 58, 60, 62, 64, 65, 66, 68, 70, 72, 74, 75, 76, 78, 80, 82]\n",
      "numbers whose cube is devisible by 4 or 5 : [2, 4, 5, 6, 8, 10, 12, 14, 15, 16, 18, 20, 22, 24, 25, 26, 28, 30, 32, 34, 35, 36, 38, 40, 42, 44, 45, 46, 48, 50, 52, 54, 55, 56, 58, 60, 62, 64, 65, 66, 68, 70, 72, 74, 75, 76, 78, 80, 82, 84]\n",
      "numbers whose cube is devisible by 4 or 5 : [2, 4, 5, 6, 8, 10, 12, 14, 15, 16, 18, 20, 22, 24, 25, 26, 28, 30, 32, 34, 35, 36, 38, 40, 42, 44, 45, 46, 48, 50, 52, 54, 55, 56, 58, 60, 62, 64, 65, 66, 68, 70, 72, 74, 75, 76, 78, 80, 82, 84, 85]\n",
      "numbers whose cube is devisible by 4 or 5 : [2, 4, 5, 6, 8, 10, 12, 14, 15, 16, 18, 20, 22, 24, 25, 26, 28, 30, 32, 34, 35, 36, 38, 40, 42, 44, 45, 46, 48, 50, 52, 54, 55, 56, 58, 60, 62, 64, 65, 66, 68, 70, 72, 74, 75, 76, 78, 80, 82, 84, 85, 86]\n",
      "numbers whose cube is devisible by 4 or 5 : [2, 4, 5, 6, 8, 10, 12, 14, 15, 16, 18, 20, 22, 24, 25, 26, 28, 30, 32, 34, 35, 36, 38, 40, 42, 44, 45, 46, 48, 50, 52, 54, 55, 56, 58, 60, 62, 64, 65, 66, 68, 70, 72, 74, 75, 76, 78, 80, 82, 84, 85, 86]\n",
      "numbers whose cube is devisible by 4 or 5 : [2, 4, 5, 6, 8, 10, 12, 14, 15, 16, 18, 20, 22, 24, 25, 26, 28, 30, 32, 34, 35, 36, 38, 40, 42, 44, 45, 46, 48, 50, 52, 54, 55, 56, 58, 60, 62, 64, 65, 66, 68, 70, 72, 74, 75, 76, 78, 80, 82, 84, 85, 86, 88]\n",
      "numbers whose cube is devisible by 4 or 5 : [2, 4, 5, 6, 8, 10, 12, 14, 15, 16, 18, 20, 22, 24, 25, 26, 28, 30, 32, 34, 35, 36, 38, 40, 42, 44, 45, 46, 48, 50, 52, 54, 55, 56, 58, 60, 62, 64, 65, 66, 68, 70, 72, 74, 75, 76, 78, 80, 82, 84, 85, 86, 88]\n",
      "numbers whose cube is devisible by 4 or 5 : [2, 4, 5, 6, 8, 10, 12, 14, 15, 16, 18, 20, 22, 24, 25, 26, 28, 30, 32, 34, 35, 36, 38, 40, 42, 44, 45, 46, 48, 50, 52, 54, 55, 56, 58, 60, 62, 64, 65, 66, 68, 70, 72, 74, 75, 76, 78, 80, 82, 84, 85, 86, 88, 90]\n",
      "numbers whose cube is devisible by 4 or 5 : [2, 4, 5, 6, 8, 10, 12, 14, 15, 16, 18, 20, 22, 24, 25, 26, 28, 30, 32, 34, 35, 36, 38, 40, 42, 44, 45, 46, 48, 50, 52, 54, 55, 56, 58, 60, 62, 64, 65, 66, 68, 70, 72, 74, 75, 76, 78, 80, 82, 84, 85, 86, 88, 90]\n",
      "numbers whose cube is devisible by 4 or 5 : [2, 4, 5, 6, 8, 10, 12, 14, 15, 16, 18, 20, 22, 24, 25, 26, 28, 30, 32, 34, 35, 36, 38, 40, 42, 44, 45, 46, 48, 50, 52, 54, 55, 56, 58, 60, 62, 64, 65, 66, 68, 70, 72, 74, 75, 76, 78, 80, 82, 84, 85, 86, 88, 90, 92]\n",
      "numbers whose cube is devisible by 4 or 5 : [2, 4, 5, 6, 8, 10, 12, 14, 15, 16, 18, 20, 22, 24, 25, 26, 28, 30, 32, 34, 35, 36, 38, 40, 42, 44, 45, 46, 48, 50, 52, 54, 55, 56, 58, 60, 62, 64, 65, 66, 68, 70, 72, 74, 75, 76, 78, 80, 82, 84, 85, 86, 88, 90, 92]\n",
      "numbers whose cube is devisible by 4 or 5 : [2, 4, 5, 6, 8, 10, 12, 14, 15, 16, 18, 20, 22, 24, 25, 26, 28, 30, 32, 34, 35, 36, 38, 40, 42, 44, 45, 46, 48, 50, 52, 54, 55, 56, 58, 60, 62, 64, 65, 66, 68, 70, 72, 74, 75, 76, 78, 80, 82, 84, 85, 86, 88, 90, 92, 94]\n",
      "numbers whose cube is devisible by 4 or 5 : [2, 4, 5, 6, 8, 10, 12, 14, 15, 16, 18, 20, 22, 24, 25, 26, 28, 30, 32, 34, 35, 36, 38, 40, 42, 44, 45, 46, 48, 50, 52, 54, 55, 56, 58, 60, 62, 64, 65, 66, 68, 70, 72, 74, 75, 76, 78, 80, 82, 84, 85, 86, 88, 90, 92, 94, 95]\n",
      "numbers whose cube is devisible by 4 or 5 : [2, 4, 5, 6, 8, 10, 12, 14, 15, 16, 18, 20, 22, 24, 25, 26, 28, 30, 32, 34, 35, 36, 38, 40, 42, 44, 45, 46, 48, 50, 52, 54, 55, 56, 58, 60, 62, 64, 65, 66, 68, 70, 72, 74, 75, 76, 78, 80, 82, 84, 85, 86, 88, 90, 92, 94, 95, 96]\n",
      "numbers whose cube is devisible by 4 or 5 : [2, 4, 5, 6, 8, 10, 12, 14, 15, 16, 18, 20, 22, 24, 25, 26, 28, 30, 32, 34, 35, 36, 38, 40, 42, 44, 45, 46, 48, 50, 52, 54, 55, 56, 58, 60, 62, 64, 65, 66, 68, 70, 72, 74, 75, 76, 78, 80, 82, 84, 85, 86, 88, 90, 92, 94, 95, 96]\n",
      "numbers whose cube is devisible by 4 or 5 : [2, 4, 5, 6, 8, 10, 12, 14, 15, 16, 18, 20, 22, 24, 25, 26, 28, 30, 32, 34, 35, 36, 38, 40, 42, 44, 45, 46, 48, 50, 52, 54, 55, 56, 58, 60, 62, 64, 65, 66, 68, 70, 72, 74, 75, 76, 78, 80, 82, 84, 85, 86, 88, 90, 92, 94, 95, 96, 98]\n",
      "numbers whose cube is devisible by 4 or 5 : [2, 4, 5, 6, 8, 10, 12, 14, 15, 16, 18, 20, 22, 24, 25, 26, 28, 30, 32, 34, 35, 36, 38, 40, 42, 44, 45, 46, 48, 50, 52, 54, 55, 56, 58, 60, 62, 64, 65, 66, 68, 70, 72, 74, 75, 76, 78, 80, 82, 84, 85, 86, 88, 90, 92, 94, 95, 96, 98]\n",
      "numbers whose cube is devisible by 4 or 5 : [2, 4, 5, 6, 8, 10, 12, 14, 15, 16, 18, 20, 22, 24, 25, 26, 28, 30, 32, 34, 35, 36, 38, 40, 42, 44, 45, 46, 48, 50, 52, 54, 55, 56, 58, 60, 62, 64, 65, 66, 68, 70, 72, 74, 75, 76, 78, 80, 82, 84, 85, 86, 88, 90, 92, 94, 95, 96, 98, 100]\n"
     ]
    }
   ],
   "source": [
    "cubes = []\n",
    "for i in range (1,101):\n",
    "    cube = i**3\n",
    "    if cube % 4 == 0 or cube % 5 ==0:\n",
    "        cubes.append (i)\n",
    "    print (\"numbers whose cube is devisible by 4 or 5 :\",cubes)"
   ]
  },
  {
   "cell_type": "code",
   "execution_count": 44,
   "id": "874f9afe-5bb0-4d5e-9862-e13122fb4572",
   "metadata": {},
   "outputs": [
    {
     "name": "stdout",
     "output_type": "stream",
     "text": [
      "Numbers whose cube is divisible by 4 or 5: [2, 4, 5, 6, 8, 10, 12, 14, 15, 16, 18, 20, 22, 24, 25, 26, 28, 30, 32, 34, 35, 36, 38, 40, 42, 44, 45, 46, 48, 50, 52, 54, 55, 56, 58, 60, 62, 64, 65, 66, 68, 70, 72, 74, 75, 76, 78, 80, 82, 84, 85, 86, 88, 90, 92, 94, 95, 96, 98, 100]\n"
     ]
    }
   ],
   "source": [
    "cubes = []\n",
    "i = 1\n",
    "while i <= 100:\n",
    "    cube = i**3\n",
    "    if cube % 4 == 0 or cube % 5 == 0:\n",
    "        cubes.append(i)\n",
    "    i += 1\n",
    "\n",
    "print(\"Numbers whose cube is divisible by 4 or 5:\", cubes)"
   ]
  },
  {
   "cell_type": "code",
   "execution_count": null,
   "id": "5e86f351-fd76-471d-850d-8297fb2815c5",
   "metadata": {},
   "outputs": [],
   "source": []
  },
  {
   "cell_type": "markdown",
   "id": "5cfec14c-7f46-4048-b790-b65be55c5eea",
   "metadata": {},
   "source": [
    "# answer 5"
   ]
  },
  {
   "cell_type": "code",
   "execution_count": 45,
   "id": "31b355da-8bd6-4497-a7a2-5fefd771796b",
   "metadata": {},
   "outputs": [],
   "source": [
    "string = \"I want to become a data scientist\""
   ]
  },
  {
   "cell_type": "code",
   "execution_count": 47,
   "id": "5ca3701e-7e24-4af9-b07f-2084e83482cf",
   "metadata": {},
   "outputs": [
    {
     "name": "stdout",
     "output_type": "stream",
     "text": [
      "The number of vowels in the string is: 1\n",
      "The number of vowels in the string is: 2\n",
      "The number of vowels in the string is: 3\n",
      "The number of vowels in the string is: 4\n",
      "The number of vowels in the string is: 5\n",
      "The number of vowels in the string is: 6\n",
      "The number of vowels in the string is: 7\n",
      "The number of vowels in the string is: 8\n",
      "The number of vowels in the string is: 9\n",
      "The number of vowels in the string is: 10\n",
      "The number of vowels in the string is: 11\n",
      "The number of vowels in the string is: 12\n"
     ]
    }
   ],
   "source": [
    "vowels = ['a', 'e', 'i', 'o', 'u']\n",
    "string = string.lower()\n",
    "vowel_count = 0\n",
    "for char in string:\n",
    "    if char in vowels:\n",
    "        vowel_count += 1\n",
    "        print(\"The number of vowels in the string is:\", vowel_count)"
   ]
  },
  {
   "cell_type": "code",
   "execution_count": null,
   "id": "2c01a472-2647-4561-b1d4-4f13c0eebc90",
   "metadata": {},
   "outputs": [],
   "source": []
  }
 ],
 "metadata": {
  "kernelspec": {
   "display_name": "Python 3 (ipykernel)",
   "language": "python",
   "name": "python3"
  },
  "language_info": {
   "codemirror_mode": {
    "name": "ipython",
    "version": 3
   },
   "file_extension": ".py",
   "mimetype": "text/x-python",
   "name": "python",
   "nbconvert_exporter": "python",
   "pygments_lexer": "ipython3",
   "version": "3.10.8"
  }
 },
 "nbformat": 4,
 "nbformat_minor": 5
}
